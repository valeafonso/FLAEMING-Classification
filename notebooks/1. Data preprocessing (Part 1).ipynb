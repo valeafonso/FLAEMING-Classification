{
 "cells": [
  {
   "cell_type": "code",
   "execution_count": null,
   "id": "a9f9fc24-38ad-48ce-bb86-6e8e093d27f9",
   "metadata": {},
   "outputs": [],
   "source": [
    "import pickle\n",
    "import random\n",
    "import os, sys, time\n",
    "import numpy as np\n",
    "import pandas as pd\n",
    "import matplotlib.pyplot as plt\n",
    "from astropy.io import fits\n",
    "from astropy.table import Table\n",
    "\n",
    "import dask\n",
    "import dask.dataframe as dd\n",
    "\n",
    "import warnings\n",
    "warnings.filterwarnings(\"ignore\", category=DeprecationWarning) \n",
    "pd.options.mode.chained_assignment = None\n",
    "font = {'family': 'serif',\n",
    "        'color':  'darkred',\n",
    "        'weight': 'normal',\n",
    "        'size': 16,\n",
    "        }"
   ]
  },
  {
   "cell_type": "code",
   "execution_count": null,
   "id": "9752a014-1443-4a7e-9120-1bbbd4947d08",
   "metadata": {},
   "outputs": [],
   "source": [
    "dat = Table.read('lae_matched', format='fits') #Importing the SC4K table crossmatched with COSMOS2020 to integretate BB photometry\n",
    "laes = dat.to_pandas()\n",
    "laes.reset_index()\n",
    "laes"
   ]
  },
  {
   "cell_type": "code",
   "execution_count": null,
   "id": "fbc03575-59f4-495b-845c-c333323321f2",
   "metadata": {},
   "outputs": [],
   "source": [
    "redshift = []\n",
    "for k in range(len(laes)): #Grouping the SC4K sources by redshift following Sobral et. al 2018\n",
    "    test=laes.iloc[k]['col4']\n",
    "    if test==b'NB392':\n",
    "        l=2.2\n",
    "        redshift.append(l)\n",
    "        continue\n",
    "    if test==b'NB501':\n",
    "        l=3.1\n",
    "        redshift.append(l)\n",
    "        continue\n",
    "    if test==b'NB711':\n",
    "        l=4.8\n",
    "        redshift.append(l)\n",
    "        continue\n",
    "    if test==b'NB816':\n",
    "        l=5.7\n",
    "        redshift.append(l)\n",
    "        continue\n",
    "    if test==b'IA427':\n",
    "        l=2.5\n",
    "        redshift.append(l)\n",
    "        continue\n",
    "    if test==b'IA464':\n",
    "        l=2.81\n",
    "        redshift.append(l)\n",
    "        continue\n",
    "    if test==b'IA484':\n",
    "        l=2.98\n",
    "        redshift.append(l)\n",
    "        continue\n",
    "    if test==b'IA505':\n",
    "        l=3.16\n",
    "        redshift.append(l)\n",
    "        continue\n",
    "    if test==b'IA527':\n",
    "        l=3.33\n",
    "        redshift.append(l)\n",
    "        continue\n",
    "    if test==b'IA574':\n",
    "        l=3.74\n",
    "        redshift.append(l)\n",
    "        continue\n",
    "    if test==b'IA624':\n",
    "        l=4.12\n",
    "        redshift.append(l)\n",
    "        continue\n",
    "    if test==b'IA679':\n",
    "        l=4.58\n",
    "        redshift.append(l)\n",
    "        continue\n",
    "    if test==b'IA709':\n",
    "        l=4.82\n",
    "        redshift.append(l)\n",
    "        continue\n",
    "    if test==b'IA738':\n",
    "        l=5.05\n",
    "        redshift.append(l)\n",
    "        continue\n",
    "    if test==b'IA767':\n",
    "        l=5.32\n",
    "        redshift.append(l)\n",
    "        continue\n",
    "    if test==b'IA827':\n",
    "        l=5.78\n",
    "        redshift.append(l)\n",
    "        continue\n",
    "laes['Redshift']=redshift"
   ]
  },
  {
   "cell_type": "code",
   "execution_count": null,
   "id": "068e335f-8269-42c1-88ec-983e9548dbe9",
   "metadata": {},
   "outputs": [],
   "source": [
    "laes.to_pickle('SC4K_COSMOS') "
   ]
  },
  {
   "cell_type": "code",
   "execution_count": null,
   "id": "97ac1cd0-ee99-4b2b-b816-c34c2356d21a",
   "metadata": {},
   "outputs": [],
   "source": [
    "dat = Table.read('COSMOS2020_limited_redshift.fits') #Importing the COSMOS2020 sample already restricted at z = 2-6\n",
    "cosmos = dat.to_pandas()\n",
    "k=laes[\"ID\"].to_numpy()\n",
    "mask = ~cosmos['ID'].isin(k) #Removing the SC4K sources from COSMOS2020\n",
    "nolae = cosmos[mask]\n",
    "nolae.reset_index()\n",
    "nolae.to_pickle('NEW_COSMOS') "
   ]
  },
  {
   "cell_type": "markdown",
   "id": "ddd101d1-ee59-4aff-8514-29dcacb5886e",
   "metadata": {},
   "source": [
    "### The following two cells are just plots comparing the LAE vs nLAE redshift and i-band distribution, to be used in the 2nd notebook for creating the training/testing samples"
   ]
  },
  {
   "cell_type": "code",
   "execution_count": null,
   "id": "b3336016-b484-409d-8750-8afad4459683",
   "metadata": {},
   "outputs": [],
   "source": [
    "import matplotlib.pyplot as plt\n",
    "import seaborn as sns\n",
    "sns.set(style=\"whitegrid\")\n",
    "\n",
    "bin_edges = np.linspace(min(min(nolae[\"lp_zPDF\"]), min(laes[\"Redshift\"])),\n",
    "                        max(max(nolae[\"lp_zPDF\"]), max(laes[\"Redshift\"])), 11)\n",
    "\n",
    "plt.figure(figsize=(10, 6))\n",
    "\n",
    "plt.hist(x=np.array(nolae[\"lp_zPDF\"]), bins=bin_edges, color='r',\n",
    "         alpha=0.7, rwidth=0.85, density=True, label='Non-LAE', edgecolor='black')  \n",
    "plt.hist(x=np.array(laes[\"Redshift\"]), bins=bin_edges, color='b',\n",
    "         alpha=0.7, rwidth=0.85, density=True, label='LAE', edgecolor='black')        \n",
    "\n",
    "plt.grid(axis='y', alpha=0.5, linestyle='--', linewidth=0.7)\n",
    "plt.xlabel('Redshift', fontsize=12)\n",
    "plt.ylabel('Relative Frequency', fontsize=12)\n",
    "plt.title('Redshift Distribution - Non-LAE and LAE Samples', fontsize=14)\n",
    "plt.legend(fontsize=10)\n",
    "plt.tick_params(axis='both', which='major', labelsize=10)\n",
    "plt.tight_layout()\n",
    "\n",
    "plt.show()"
   ]
  },
  {
   "cell_type": "code",
   "execution_count": null,
   "id": "475a0ed9-3f28-46fc-af09-b0189687b9c4",
   "metadata": {},
   "outputs": [],
   "source": [
    "plt.hist(x=np.array(nolae[\"lp_zBEST\"]), bins=8, color='b',\n",
    "                            alpha=0.7, rwidth=0.85)   \n",
    "plt.grid(axis='y', alpha=0.75)\n",
    "plt.xlabel('Redshift')\n",
    "plt.ylabel('Frequency')\n",
    "plt.title('Redshift Distribution Non-LAE Sample')\n",
    "plt.xlim([0, 8])\n",
    "plt.legend()\n",
    "plt.grid(False)\n",
    "plt.savefig('Redshift Dist Non-LAE Sample.eps',format='eps')"
   ]
  }
 ],
 "metadata": {
  "kernelspec": {
   "display_name": "Python 3 (ipykernel)",
   "language": "python",
   "name": "python3"
  },
  "language_info": {
   "codemirror_mode": {
    "name": "ipython",
    "version": 3
   },
   "file_extension": ".py",
   "mimetype": "text/x-python",
   "name": "python",
   "nbconvert_exporter": "python",
   "pygments_lexer": "ipython3",
   "version": "3.12.4"
  }
 },
 "nbformat": 4,
 "nbformat_minor": 5
}
